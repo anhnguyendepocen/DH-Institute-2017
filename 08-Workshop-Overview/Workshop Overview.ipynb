{
 "cells": [
  {
   "cell_type": "markdown",
   "metadata": {},
   "source": [
    " \n",
    "# <center> DHBSI 2017: Computational Text Analysis </center>\n",
    "\n",
    "## <center> Laura Nelson <br/> <em>Postdoctoral Fellow | Digital Humanities @ Berkeley | Berkeley Institute for Data Science </em> </center>\n",
    "\n",
    "## <center> Teddy Roland <br/> <em> PhD Student, UC Santa Barbara </em> </center>"
   ]
  },
  {
   "cell_type": "markdown",
   "metadata": {},
   "source": [
    "# <center> Summary </center>\n",
    "## <center> Text Analysis Demystified </center>\n",
    "### <center> It's Just Counting! <br/> </center>\n",
    "![Counting](Text_Counting.jpg)"
   ]
  },
  {
   "cell_type": "markdown",
   "metadata": {},
   "source": [
    "## <center> The Dark Side of DH: An Invitation\n",
    "![Dark Side](Dark_Side.jpg)"
   ]
  },
  {
   "cell_type": "markdown",
   "metadata": {},
   "source": [
    "## <center> Text Analysis in Research </center>\n",
    "![Interpretive Moments](Text_Analysis_In_Reearch.jpg)"
   ]
  },
  {
   "cell_type": "markdown",
   "metadata": {},
   "source": [
    "# Lesson 1: Introduction to Natural Language Processing"
   ]
  },
  {
   "cell_type": "code",
   "execution_count": 1,
   "metadata": {},
   "outputs": [
    {
     "name": "stdout",
     "output_type": "stream",
     "text": [
      "Frequent Words for Text 1 \t Frequent Words for Text 2\n",
      "_________________________ \t _________________________\n",
      "\t 's \t\t\t\t ''\n",
      "\t '' \t\t\t\t ``\n",
      "\t `` \t\t\t\t 's\n",
      "\t whale \t\t\t\t elinor\n",
      "\t one \t\t\t\t could\n",
      "\t like \t\t\t\t marianne\n",
      "\t upon \t\t\t\t mrs.\n",
      "\t ahab \t\t\t\t would\n",
      "\t man \t\t\t\t said\n",
      "\t ship \t\t\t\t every\n",
      "\t old \t\t\t\t one\n",
      "\t would \t\t\t\t much\n",
      "\t ye \t\t\t\t must\n",
      "\t sea \t\t\t\t sister\n",
      "\t though \t\t\t edward\n",
      "\t yet \t\t\t\t dashwood\n",
      "\t time \t\t\t\t mother\n",
      "\t captain \t\t\t time\n",
      "\t long \t\t\t\t jennings\n",
      "\t still \t\t\t\t know\n"
     ]
    }
   ],
   "source": [
    "# Prep\n",
    "import nltk\n",
    "from nltk import word_tokenize\n",
    "from nltk.corpus import stopwords\n",
    "import string\n",
    "\n",
    "\n",
    "# Read Novels from Hard-Drive\n",
    "text1 = open('../01-Intro to NLP/text1.txt').read()\n",
    "text2 = open('../01-Intro to NLP/text2.txt').read()\n",
    "\n",
    "\n",
    "# Tokenize Novels\n",
    "text1_tokens = word_tokenize(text1)\n",
    "text2_tokens = word_tokenize(text2)\n",
    "\n",
    "\n",
    "# Set Words to Lower Case\n",
    "text1_tokens_lower = [word.lower() for word in text1_tokens]\n",
    "text2_tokens_lower = [word.lower() for word in text2_tokens]\n",
    "\n",
    "\n",
    "# Remove Stopwords\n",
    "text1_tokens_nostops = [word for word in text1_tokens_lower if word not in stopwords.words('english')]\n",
    "text2_tokens_nostops = [word for word in text2_tokens_lower if word not in stopwords.words('english')]\n",
    "\n",
    "\n",
    "# Remove Punctuation Marks\n",
    "text1_tokens_clean = [word for word in text1_tokens_nostops if word not in string.punctuation]\n",
    "text2_tokens_clean = [word for word in text2_tokens_nostops if word not in string.punctuation]\n",
    "\n",
    "# Tally the Term Frequencies\n",
    "text1_word_frequency = nltk.FreqDist(text1_tokens_clean)\n",
    "text2_word_frequency = nltk.FreqDist(text2_tokens_clean)\n",
    "\n",
    "print(\"Frequent Words for Text 1\",'\\t', \"Frequent Words for Text 2\")\n",
    "print(\"_________________________\",'\\t', \"_________________________\")\n",
    "\n",
    "for i in range(20):\n",
    "    word1, word2 = text1_word_frequency.most_common(20)[i][0], text2_word_frequency.most_common(20)[i][0]\n",
    "    print('\\t',word1, '\\t'*(4 - len(word1)//6), word2)\n",
    "    \n",
    "    \n",
    "## Can you guess the novel from most frequent words?"
   ]
  },
  {
   "cell_type": "markdown",
   "metadata": {},
   "source": [
    "# Lesson 2: Basics of Python"
   ]
  },
  {
   "cell_type": "code",
   "execution_count": 2,
   "metadata": {
    "collapsed": true
   },
   "outputs": [],
   "source": [
    "# Nothing to see here, folks"
   ]
  },
  {
   "cell_type": "markdown",
   "metadata": {},
   "source": [
    "# Lesson 3: Operationalizing"
   ]
  },
  {
   "cell_type": "code",
   "execution_count": 3,
   "metadata": {},
   "outputs": [
    {
     "name": "stdout",
     "output_type": "stream",
     "text": [
      "Populating the interactive namespace from numpy and matplotlib\n"
     ]
    },
    {
     "data": {
      "text/plain": [
       "<matplotlib.axes._subplots.AxesSubplot at 0x10f1d1400>"
      ]
     },
     "execution_count": 3,
     "metadata": {},
     "output_type": "execute_result"
    },
    {
     "data": {
      "image/png": "[encoded data removed]",
      "text/plain": [
       "<matplotlib.figure.Figure at 0x10f13f780>"
      ]
     },
     "metadata": {},
     "output_type": "display_data"
    }
   ],
   "source": [
    "# Prep\n",
    "import pandas\n",
    "\n",
    "# Import Spreadsheet with Each Character's Lines\n",
    "dialogue_df = pandas.read_csv('../03-Operationalizing/antigone_dialogue.csv', index_col=0)\n",
    "\n",
    "# Tokenize\n",
    "dialogue_tokens = [character.split() for character in dialogue_df['DIALOGUE']]\n",
    "\n",
    "# Count the Number of Tokens per Character\n",
    "dialogue_df['WORDS_SPOKEN'] = [len(tokens) for tokens in dialogue_tokens]\n",
    "\n",
    "# List Characters by Number of Words Spoken\n",
    "dialogue_df = dialogue_df.sort_values('WORDS_SPOKEN', ascending = False)\n",
    "\n",
    "# Tell Jupyter to Produce Any Visualizations within Notebook\n",
    "% pylab inline\n",
    "\n",
    "# Makes images look good\n",
    "style.use('ggplot')\n",
    "\n",
    "# Let's visualize!\n",
    "dialogue_df['WORDS_SPOKEN'].plot(kind='bar')\n",
    "\n",
    "\n",
    "## Who is the protagonist of Antigone?"
   ]
  },
  {
   "cell_type": "markdown",
   "metadata": {},
   "source": [
    "# Lesson 4: Discriminating Words"
   ]
  },
  {
   "cell_type": "code",
   "execution_count": 4,
   "metadata": {},
   "outputs": [
    {
     "name": "stdout",
     "output_type": "stream",
     "text": [
      "Rap Words\n",
      "blank             0.854475\n",
      "039               0.797595\n",
      "waste             0.755918\n",
      "amiable           0.730963\n",
      "awesomely         0.717079\n",
      "same              0.672391\n",
      "sucker            0.663760\n",
      "tight             0.653993\n",
      "beastie           0.650603\n",
      "lamest            0.639377\n",
      "derivativeness    0.636271\n",
      "authentic         0.627192\n",
      "diverse           0.623373\n",
      "sermon            0.621175\n",
      "mastermind        0.609213\n",
      "neat              0.608922\n",
      "we                0.600755\n",
      "lift              0.591821\n",
      "supreme           0.590431\n",
      "overwhelms        0.586293\n",
      "dtype: float64\n",
      "\n",
      "Indie Words\n",
      "underplayed    0.516717\n",
      "prisoner       0.512087\n",
      "jezabels       0.512087\n",
      "careworn       0.509386\n",
      "folk           0.476719\n",
      "victory        0.449289\n",
      "exhausted      0.445969\n",
      "bigger         0.441849\n",
      "heyday         0.438114\n",
      "babelfished    0.431543\n",
      "bet            0.426091\n",
      "worn           0.416482\n",
      "93             0.416137\n",
      "try            0.415525\n",
      "triumph        0.413976\n",
      "silhouette     0.413374\n",
      "icelandic      0.411715\n",
      "fourth         0.409213\n",
      "nonetheless    0.406747\n",
      "riffed         0.402439\n",
      "dtype: float64\n",
      "\n",
      "Jazz Words\n",
      "devotional      0.507724\n",
      "clarinet        0.470680\n",
      "amidst          0.465227\n",
      "duhnam          0.456224\n",
      "carper          0.456224\n",
      "purely          0.455232\n",
      "descending      0.441013\n",
      "apply           0.435261\n",
      "68              0.433787\n",
      "holds           0.425910\n",
      "recordings      0.418013\n",
      "mose            0.414479\n",
      "allison         0.414479\n",
      "languid         0.414254\n",
      "spacier         0.412838\n",
      "sidelined       0.412838\n",
      "playful         0.409639\n",
      "determinedly    0.402711\n",
      "innovative      0.400028\n",
      "dynamic         0.399175\n",
      "dtype: float64\n"
     ]
    }
   ],
   "source": [
    "# Prep\n",
    "from sklearn.feature_extraction.text import TfidfVectorizer\n",
    "\n",
    "# Spreadsheet with Album Reviews\n",
    "df = pandas.read_csv(\"../04-Discriminating-Words/BDHSI2016_music_reviews.csv\", sep = '\\t')\n",
    "\n",
    "# Create a Document-Term Matrix (DTM), weight cells by Tf-Idf\n",
    "tfidfvec = TfidfVectorizer()\n",
    "dtm_tfidf_df = pandas.DataFrame(tfidfvec.fit_transform(df.body).toarray(), columns=tfidfvec.get_feature_names(), index = df.index)\n",
    "\n",
    "# Add a Column for Album Genre\n",
    "df_genre = df['genre'].to_frame()\n",
    "merged_df = df_genre.join(dtm_tfidf_df, how = 'right', lsuffix='_x')\n",
    "\n",
    "# Get Reviews for 3 Genres: Rap, Alternative/Indie Rock, and Jazz\n",
    "dtm_rap = merged_df[merged_df['genre_x']==\"Rap\"]\n",
    "dtm_indie = merged_df[merged_df['genre_x']==\"Alternative/Indie Rock\"]\n",
    "dtm_jazz = merged_df[merged_df['genre_x']==\"Jazz\"]\n",
    "\n",
    "# Print Words with Highest Tf-Idf Scores per Genre\n",
    "print(\"Rap Words\")\n",
    "print(dtm_rap.max(numeric_only=True).sort_values(ascending=False)[0:20])\n",
    "print()\n",
    "print(\"Indie Words\")\n",
    "print(dtm_indie.max(numeric_only=True).sort_values(ascending=False)[0:20])\n",
    "print()\n",
    "print(\"Jazz Words\")\n",
    "print(dtm_jazz.max(numeric_only=True).sort_values(ascending=False)[0:20])\n",
    "\n",
    "\n",
    "## What words are distinct to reviews of Rap albums, Indie albums, and Jazz albums?"
   ]
  },
  {
   "cell_type": "markdown",
   "metadata": {},
   "source": [
    "# Lesson 5: Sentiment Analysis using the Dictionary Method"
   ]
  },
  {
   "cell_type": "code",
   "execution_count": 5,
   "metadata": {},
   "outputs": [
    {
     "name": "stdout",
     "output_type": "stream",
     "text": [
      "Melville\n",
      "% Positive Words: 2.92\n",
      "% Negative Words: 2.67\n",
      "\n",
      "Austen\n",
      "% Positive Words: 4.6\n",
      "% Negative Words: 2.57\n"
     ]
    }
   ],
   "source": [
    "# Read Files with Positive & Negative Words\n",
    "positive_file = open(\"../05-Dictionary-Method/positive_words.txt\").read()\n",
    "negative_file = open(\"../05-Dictionary-Method/negative_words.txt\").read()\n",
    "\n",
    "# Tokenize Lists of Words\n",
    "positive_words = set(positive_file.split('\\n'))\n",
    "negative_words = set(negative_file.split('\\n'))\n",
    "\n",
    "# Get Positive Words from the Novels in Lesson 1\n",
    "text1_pos = [word for word in text1_tokens_clean if word in positive_words]\n",
    "text2_pos = [word for word in text2_tokens_clean if word in positive_words]\n",
    "\n",
    "# Get their Negative Words\n",
    "text1_neg = [word for word in text1_tokens if word in negative_words]\n",
    "text2_neg = [word for word in text2_tokens if word in negative_words]\n",
    "\n",
    "\n",
    "print(\"Melville\")\n",
    "print(\"% Positive Words:\", np.round(len(text1_pos)/len(text1_tokens),4)*100)\n",
    "print(\"% Negative Words:\", np.round(len(text1_neg)/len(text1_tokens),4)*100)\n",
    "print()\n",
    "print(\"Austen\")\n",
    "print(\"% Positive Words:\", np.round(len(text2_pos)/len(text2_tokens),4)*100)\n",
    "print(\"% Negative Words:\", np.round(len(text2_neg)/len(text2_tokens),4)*100)\n",
    "\n",
    "\n",
    "## Who is more postive, Melville or Austen?"
   ]
  },
  {
   "cell_type": "markdown",
   "metadata": {},
   "source": [
    "# Lesson 6: Literary Distinction"
   ]
  },
  {
   "cell_type": "code",
   "execution_count": 6,
   "metadata": {},
   "outputs": [
    {
     "data": {
      "text/plain": [
       "array(['reviewed', 'random'], \n",
       "      dtype='<U8')"
      ]
     },
     "execution_count": 6,
     "metadata": {},
     "output_type": "execute_result"
    }
   ],
   "source": [
    "# Prep\n",
    "from sklearn.naive_bayes import MultinomialNB\n",
    "from sklearn.feature_extraction.text import CountVectorizer\n",
    "import os\n",
    "\n",
    "# Folders with Each Half of the Corpus\n",
    "review_path = '../06-Literary Distinction (Probably)/poems/reviewed/'\n",
    "random_path = '../06-Literary Distinction (Probably)/poems/random/'\n",
    "\n",
    "# Get List of Files in Each Folder\n",
    "review_files = os.listdir(review_path)\n",
    "random_files = os.listdir(random_path)\n",
    "\n",
    "# Read All Volumes of Poetry\n",
    "review_texts = [open(review_path+file_name).read() for file_name in review_files]\n",
    "random_texts = [open(random_path+file_name).read() for file_name in random_files]\n",
    "\n",
    "# Compile into Single List of Texts, Make Labels\n",
    "all_texts = review_texts + random_texts\n",
    "all_file_names = review_files + random_files\n",
    "all_labels = ['reviewed'] * len(review_texts) + ['random'] * len(random_texts)\n",
    "\n",
    "# Create DTM\n",
    "cv = CountVectorizer(stop_words = 'english', min_df=180, binary = True, max_features = None)\n",
    "dtm = cv.fit_transform(all_texts)\n",
    "\n",
    "# Learn to Predict whether Poetry Volume was \"Reviewed\" in a Prestigious Magazine or Not\n",
    "nb = MultinomialNB()\n",
    "nb.fit(dtm, all_labels)\n",
    "\n",
    "# Now Let's Throw Two New Poems into the Mix\n",
    "dickinson_canonic = \"\"\"Because I could not stop for Death – \n",
    "He kindly stopped for me –  \n",
    "The Carriage held but just Ourselves –  \n",
    "And Immortality.\n",
    "\n",
    "We slowly drove – He knew no haste\n",
    "And I had put away\n",
    "My labor and my leisure too,\n",
    "For His Civility – \n",
    "\n",
    "We passed the School, where Children strove\n",
    "At Recess – in the Ring –  \n",
    "We passed the Fields of Gazing Grain –  \n",
    "We passed the Setting Sun – \n",
    "\n",
    "Or rather – He passed us – \n",
    "The Dews drew quivering and chill – \n",
    "For only Gossamer, my Gown – \n",
    "My Tippet – only Tulle – \n",
    "\n",
    "We paused before a House that seemed\n",
    "A Swelling of the Ground – \n",
    "The Roof was scarcely visible – \n",
    "The Cornice – in the Ground – \n",
    "\n",
    "Since then – ‘tis Centuries – and yet\n",
    "Feels shorter than the Day\n",
    "I first surmised the Horses’ Heads \n",
    "Were toward Eternity – \"\"\"\n",
    "\n",
    "anthem_patriotic = \"\"\"O! say can you see, by the dawn's early light,\n",
    "What so proudly we hailed at the twilight's last gleaming,\n",
    "Whose broad stripes and bright stars through the perilous fight,\n",
    "O'er the ramparts we watched, were so gallantly streaming?\n",
    "And the rockets' red glare, the bombs bursting in air,\n",
    "Gave proof through the night that our flag was still there;\n",
    "O! say does that star-spangled banner yet wave\n",
    "O'er the land of the free and the home of the brave?\"\"\"\n",
    "\n",
    "# Make a DTM with the Two New Poems\n",
    "unknown_dtm = cv.transform([dickinson_canonic,anthem_patriotic])\n",
    "\n",
    "# Predict whether they would have been Reviewed\n",
    "nb.predict(unknown_dtm)\n",
    "\n",
    "\n",
    "## Can a computer predict whether a poem would be considered 'presitgious'?"
   ]
  },
  {
   "cell_type": "markdown",
   "metadata": {},
   "source": [
    "# Lesson 7: Word Embedding"
   ]
  },
  {
   "cell_type": "code",
   "execution_count": 7,
   "metadata": {},
   "outputs": [
    {
     "data": {
      "text/plain": [
       "[('queen', 0.7193931341171265),\n",
       " ('princess', 0.701875627040863),\n",
       " ('duke', 0.6478198766708374),\n",
       " ('duchess', 0.6437320709228516),\n",
       " ('priestess', 0.6279948949813843),\n",
       " ('flavia', 0.6270546913146973),\n",
       " ('emperor', 0.619001030921936),\n",
       " ('defender', 0.6177453994750977),\n",
       " ('ruritania', 0.6155887842178345),\n",
       " ('catharine', 0.6145066022872925)]"
      ]
     },
     "execution_count": 7,
     "metadata": {},
     "output_type": "execute_result"
    }
   ],
   "source": [
    "import gensim\n",
    "from nltk.tokenize import sent_tokenize\n",
    "\n",
    "# Custom Tokenizer for Classroom Use\n",
    "def fast_tokenize(text):  \n",
    "    return \"\".join([char for char in text.lower() if char not in string.punctuation]).split()\n",
    "\n",
    "# Set Location of Corpus Folder\n",
    "fiction_folder = '../07-Word2Vec/txtlab_Novel450_English/'\n",
    "\n",
    "# Collect Text of Each Novel in 'fiction_folder'\n",
    "novel_list = [open(fiction_folder + filename, 'r').read() for filename in os.listdir(fiction_folder)]\n",
    "\n",
    "# Split Each Novel into Sentences\n",
    "sentences = [sentence for novel in novel_list for sentence in sent_tokenize(novel)]\n",
    "\n",
    "# Split Each Sentence into Tokens\n",
    "words_by_sentence = [fast_tokenize(sentence) for sentence in sentences]\n",
    "\n",
    "# Remove Any Sentences that Contain Zero Tokens\n",
    "words_by_sentence = [sentence for sentence in words_by_sentence if sentence != []]\n",
    "\n",
    "# Train word2vec model from txtLab corpus\n",
    "model = gensim.models.Word2Vec(words_by_sentence, size=100, window=5, \\\n",
    "                               min_count=25, sg=1, alpha=0.025, iter=5, batch_words=10000)\n",
    "\n",
    "# King - Man + Woman -> Queen\n",
    "model.most_similar(positive=['woman', 'king'], negative=['man'])\n",
    "\n",
    "## Man is to King as Woman is to ??\n",
    "## What has our model learned about gender?"
   ]
  }
 ],
 "metadata": {
  "anaconda-cloud": {},
  "kernelspec": {
   "display_name": "Python 3",
   "language": "python",
   "name": "python3"
  },
  "language_info": {
   "codemirror_mode": {
    "name": "ipython",
    "version": 3
   },
   "file_extension": ".py",
   "mimetype": "text/x-python",
   "name": "python",
   "nbconvert_exporter": "python",
   "pygments_lexer": "ipython3",
   "version": "3.6.1"
  }
 },
 "nbformat": 4,
 "nbformat_minor": 1
}
