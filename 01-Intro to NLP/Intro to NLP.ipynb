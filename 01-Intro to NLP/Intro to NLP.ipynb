{
 "cells": [
  {
   "cell_type": "markdown",
   "metadata": {},
   "source": [
    "# Introduction to Natural Language Processing (NLP)\n",
    "\n",
    "Generally speaking, <i>Computational Text Analysis</i> is a set of interpretive methods which seek to understand patterns in human discourse, in part through statistics. More familiar methods, such as close reading, are exceptionally well-suited to the analysis of individual texts, however our research questions typically compel us to look for relationships across texts, sometimes counting in the thousands or even millions. We have to zoom out, in order to perform so-called <i>distant reading</i>. Fortunately for us, computers are well-suited to identify the kinds of textual relationships that exist at scale.\n",
    "\n",
    "We will spend the week exploring research questions that computational methods can help to answer and thinking about how these complement -- rather than displace -- other interpretive methods. Before moving to that conceptual level, however, we will familiarize ourselves with the basic tools of the trade.\n",
    "\n",
    "<i>Natural Language Processing</i> is an umbrella term for the methods by which a computer handles human language text. This includes transforming the text into a numerical form that the computer manipulates natively, as well as the measurements that reserchers often perform. In the parlance, <i>natural language</i> refers to a language spoken by humans, as opposed to a <i>formal language</i>, such as Python, which comprises a set of logical operations.\n",
    "\n",
    "The goal of this lesson is to jump right in to text analysis and natural language processing. Rather than starting with the nitty gritty of programming in Python, this lesson will demonstrate some neat things you can do with a minimal amount of coding. Today, we aim to build intuition about how computers read human text and learn some of the basic operations we'll perform with them.\n",
    "\n",
    "\n",
    "# Lesson Outline\n",
    "- Jargon\n",
    "- Text in Python\n",
    "- Tokenization & Term Frequency\n",
    "- Pre-Processing: \n",
    "    * Changing words to lowercase\n",
    "    * Removing stop words\n",
    "    * Removing punctuation\n",
    "- Part-of-Speech Tagging\n",
    "    * Tagging tokens\n",
    "    * Counting tagged tokens\n",
    "- Demonstration: Guess the Novel!\n",
    "- Concordance"
   ]
  },
  {
   "cell_type": "markdown",
   "metadata": {},
   "source": [
    "# 0. Key Jargon\n",
    "\n",
    "### General\n",
    "* *programming* (or *coding*)\n",
    "    * A program is a sequence of instructions given to the computer, in order to perform a specific task. Those instructions are written in a specific *programming language*, in our case, Python. Writing these instructions can be an art as much as a science.\n",
    "* *Python*\n",
    "    * A general-use programming language that is popular for NLP and statistics.\n",
    "* *script*\n",
    "    * A block of executable code.\n",
    "* *Jupyter Notebook*\n",
    "    * Jupyter is a popular interface in which Python scripts can be written and executed. Stand-alone scripts are saved in Notebooks. The script can be sub-divided into units called <i>cells</i> and executed individually. Cells can also contain discursive text and html formatting (such as in this cell!)\n",
    "* *package* (or *module*)\n",
    "    * Python offers a basic set of functions that can be used off-the-shelf. However, we often wish to go beyond the basics. To that end, <i>packages</i> are collections of python files that contain pre-made functions. These functions are made available to our program when we <i>import</i> the package that contains them.\n",
    "* *Anaconda*\n",
    "    * Anaconda is a <i>platform</i> for programming in Python. A platform constitutes a closed environment on your computer that has been standardized for functionality. For example, Anaconda contains common packages and programming interfaces for Python, and its developers ensure compatibility among the moving parts.\n",
    "    \n",
    "    \n",
    "### When Programming\n",
    "* *variable*\n",
    "    * A variable is a generic container that stores a value, such as a number or series of letters. This is not like a variable from high-school algebra, which had a single \"correct\" value that must be solved. Rather, the user <i>assigns</i> values to the variable in order to perform operations on it later.\n",
    "* *string*\n",
    "    * A type of object consisting of a single sequence of alpha-numeric characters. In Python, a string is indicated by quotation marks around the sequence\"\n",
    "* *list*\n",
    "    * A type of object that consists of a sequence of elements.\n",
    "    \n",
    "### Natural Language Processing\n",
    "* *pre-processing*\n",
    "    * Transforming a human lanugage text into computer-manipulable format. A typical pre-processing workflow includes <i>stop-word</i> removal, setting text in lower case, and <i>term frequency</i> counting.\n",
    "* *token*\n",
    "    * An individual word unit within a sentence.\n",
    "* *stop words*\n",
    "    * The function words in a natural langauge, such as <i>the</i>, <i>of</i>, <i>it</i>, etc. These are typically the most common words.\n",
    "* *term frequency*\n",
    "    * The number of times a term appears in a given text. This is either reported as a raw tally or it is <i>normalized</i> by dividing by the total number of words in a text.    \n",
    "* *POS tagging*\n",
    "    * One common task in NLP is the determination of a word's part-of-speech (POS). The label that describes a word's POS is called its <i>tag</i>. Specialized functions that make these determinations are called <i>POS Taggers</i>.\n",
    "* *concordance*\n",
    "    * Index of instances of a given word (or other linguistic feature) in a text. Typically, each instance is presented within a contextual window for human readability.\n",
    "* *NLTK (Natural Language Tool Kit)*\n",
    "    * A common Python package that contains many NLP-related functions\n",
    "\n",
    "### Further Resources:\n",
    "\n",
    "Check out the full range of techniques included in Python's nltk package here: http://www.nltk.org/book/"
   ]
  },
  {
   "cell_type": "markdown",
   "metadata": {},
   "source": [
    "# 1. Text in Python\n",
    "\n",
    "First, a quote about what digital humanities means, from digital humanist Kathleen Fitzpatrick. Source: \"On Scholarly Communication and the Digital Humanities: An Interview with Kathleen Fitzpatrick\", *In the Library with the Lead Pipe*"
   ]
  },
  {
   "cell_type": "code",
   "execution_count": 1,
   "metadata": {},
   "outputs": [
    {
     "name": "stdout",
     "output_type": "stream",
     "text": [
      "For me it has to do with the work that gets done at the crossroads of digital media and traditional humanistic study. And that happens in two different ways. On the one hand, it's bringing the tools and techniques of digital media to bear on traditional humanistic questions; on the other, it's also bringing humanistic modes of inquiry to bear on digital media.\n"
     ]
    }
   ],
   "source": [
    "print(\"For me it has to do with the work that gets done at the crossroads of digital media and traditional humanistic study. And that happens in two different ways. On the one hand, it's bringing the tools and techniques of digital media to bear on traditional humanistic questions; on the other, it's also bringing humanistic modes of inquiry to bear on digital media.\")"
   ]
  },
  {
   "cell_type": "code",
   "execution_count": 2,
   "metadata": {},
   "outputs": [],
   "source": [
    "# Assign the quote to a variable, so we can refer back to it later\n",
    "# We get to make up the name of our variable, so let's give it a descriptive label: \"sentence\"\n",
    "\n",
    "sentence = \"For me it has to do with the work that gets done at the crossroads of digital media and traditional humanistic study. And that happens in two different ways. On the one hand, it's bringing the tools and techniques of digital media to bear on traditional humanistic questions; on the other, it's also bringing humanistic modes of inquiry to bear on digital media.\""
   ]
  },
  {
   "cell_type": "code",
   "execution_count": 3,
   "metadata": {
    "collapsed": true
   },
   "outputs": [],
   "source": [
    "# Oh, also: anything on a line starting with a hashtag is called a comment,\n",
    "# and is meant to clarify code for human readers. The computer ignores these lines."
   ]
  },
  {
   "cell_type": "code",
   "execution_count": 4,
   "metadata": {},
   "outputs": [
    {
     "name": "stdout",
     "output_type": "stream",
     "text": [
      "For me it has to do with the work that gets done at the crossroads of digital media and traditional humanistic study. And that happens in two different ways. On the one hand, it's bringing the tools and techniques of digital media to bear on traditional humanistic questions; on the other, it's also bringing humanistic modes of inquiry to bear on digital media.\n"
     ]
    }
   ],
   "source": [
    "# Print the contents of the variable 'sentence'\n",
    "\n",
    "print(sentence)"
   ]
  },
  {
   "cell_type": "markdown",
   "metadata": {},
   "source": [
    "# 2. Tokenizing Text and Counting Words\n",
    "\n",
    "The above output is how a human would read that sentence. Next we look the main way in which a computer \"reads\", or *parses*, that sentence.\n",
    "\n",
    "The first step is typically to <i>tokenize</i> it, or to change it into a series of <i>tokens</i>. Each token roughly corresponds to either a word or punctuation mark. These smaller units are more straight-forward for the computer to handle for tasks like counting."
   ]
  },
  {
   "cell_type": "code",
   "execution_count": 5,
   "metadata": {
    "collapsed": true
   },
   "outputs": [],
   "source": [
    "# Import the NLTK (Natural Language Tool Kit) package\n",
    "\n",
    "import nltk"
   ]
  },
  {
   "cell_type": "code",
   "execution_count": 6,
   "metadata": {
    "scrolled": true
   },
   "outputs": [
    {
     "data": {
      "text/plain": [
       "['For',\n",
       " 'me',\n",
       " 'it',\n",
       " 'has',\n",
       " 'to',\n",
       " 'do',\n",
       " 'with',\n",
       " 'the',\n",
       " 'work',\n",
       " 'that',\n",
       " 'gets',\n",
       " 'done',\n",
       " 'at',\n",
       " 'the',\n",
       " 'crossroads',\n",
       " 'of',\n",
       " 'digital',\n",
       " 'media',\n",
       " 'and',\n",
       " 'traditional',\n",
       " 'humanistic',\n",
       " 'study',\n",
       " '.',\n",
       " 'And',\n",
       " 'that',\n",
       " 'happens',\n",
       " 'in',\n",
       " 'two',\n",
       " 'different',\n",
       " 'ways',\n",
       " '.',\n",
       " 'On',\n",
       " 'the',\n",
       " 'one',\n",
       " 'hand',\n",
       " ',',\n",
       " 'it',\n",
       " \"'s\",\n",
       " 'bringing',\n",
       " 'the',\n",
       " 'tools',\n",
       " 'and',\n",
       " 'techniques',\n",
       " 'of',\n",
       " 'digital',\n",
       " 'media',\n",
       " 'to',\n",
       " 'bear',\n",
       " 'on',\n",
       " 'traditional',\n",
       " 'humanistic',\n",
       " 'questions',\n",
       " ';',\n",
       " 'on',\n",
       " 'the',\n",
       " 'other',\n",
       " ',',\n",
       " 'it',\n",
       " \"'s\",\n",
       " 'also',\n",
       " 'bringing',\n",
       " 'humanistic',\n",
       " 'modes',\n",
       " 'of',\n",
       " 'inquiry',\n",
       " 'to',\n",
       " 'bear',\n",
       " 'on',\n",
       " 'digital',\n",
       " 'media',\n",
       " '.']"
      ]
     },
     "execution_count": 6,
     "metadata": {},
     "output_type": "execute_result"
    }
   ],
   "source": [
    "# Tokenize our sentence!\n",
    "\n",
    "nltk.word_tokenize(sentence)"
   ]
  },
  {
   "cell_type": "code",
   "execution_count": 7,
   "metadata": {
    "collapsed": true
   },
   "outputs": [],
   "source": [
    "# Create new variable that contains our tokenized sentence\n",
    "\n",
    "sentence_tokens = nltk.word_tokenize(sentence)"
   ]
  },
  {
   "cell_type": "code",
   "execution_count": 8,
   "metadata": {},
   "outputs": [
    {
     "name": "stdout",
     "output_type": "stream",
     "text": [
      "['For', 'me', 'it', 'has', 'to', 'do', 'with', 'the', 'work', 'that', 'gets', 'done', 'at', 'the', 'crossroads', 'of', 'digital', 'media', 'and', 'traditional', 'humanistic', 'study', '.', 'And', 'that', 'happens', 'in', 'two', 'different', 'ways', '.', 'On', 'the', 'one', 'hand', ',', 'it', \"'s\", 'bringing', 'the', 'tools', 'and', 'techniques', 'of', 'digital', 'media', 'to', 'bear', 'on', 'traditional', 'humanistic', 'questions', ';', 'on', 'the', 'other', ',', 'it', \"'s\", 'also', 'bringing', 'humanistic', 'modes', 'of', 'inquiry', 'to', 'bear', 'on', 'digital', 'media', '.']\n"
     ]
    }
   ],
   "source": [
    "# Inspect our new variable\n",
    "# Note the square braces at the beginning and end that indicate we are looking at a list-type object\n",
    "\n",
    "print(sentence_tokens)"
   ]
  },
  {
   "cell_type": "markdown",
   "metadata": {},
   "source": [
    "### Note on Tokenization\n",
    "\n",
    "While seemingly simple, tokenization is a non-trivial task.\n",
    "\n",
    "For example, notice how the tokenizer has handled contractions: a contracted word is divided into two separate tokens! What do you think is the motivation for this? How else might you tokenize them?\n",
    "\n",
    "Also notice each token is either a word or punctuation mark. In practice, it is sometimes useful to remove punctuation marks and at other times to include them, depending on the situation.\n",
    "\n",
    "In the coming days, we will see other tokenizers and have opportunities to explore their reasoning. For now, we will look at a few examples of NLP tasks that tokenization enables."
   ]
  },
  {
   "cell_type": "code",
   "execution_count": 9,
   "metadata": {},
   "outputs": [
    {
     "data": {
      "text/plain": [
       "71"
      ]
     },
     "execution_count": 9,
     "metadata": {},
     "output_type": "execute_result"
    }
   ],
   "source": [
    "# How many tokens are in our list?\n",
    "\n",
    "len(sentence_tokens)"
   ]
  },
  {
   "cell_type": "code",
   "execution_count": 11,
   "metadata": {
    "scrolled": true
   },
   "outputs": [
    {
     "data": {
      "text/plain": [
       "Counter({\"'s\": 2,\n",
       "         ',': 2,\n",
       "         '.': 3,\n",
       "         ';': 1,\n",
       "         'And': 1,\n",
       "         'For': 1,\n",
       "         'On': 1,\n",
       "         'also': 1,\n",
       "         'and': 2,\n",
       "         'at': 1,\n",
       "         'bear': 2,\n",
       "         'bringing': 2,\n",
       "         'crossroads': 1,\n",
       "         'different': 1,\n",
       "         'digital': 3,\n",
       "         'do': 1,\n",
       "         'done': 1,\n",
       "         'gets': 1,\n",
       "         'hand': 1,\n",
       "         'happens': 1,\n",
       "         'has': 1,\n",
       "         'humanistic': 3,\n",
       "         'in': 1,\n",
       "         'inquiry': 1,\n",
       "         'it': 3,\n",
       "         'me': 1,\n",
       "         'media': 3,\n",
       "         'modes': 1,\n",
       "         'of': 3,\n",
       "         'on': 3,\n",
       "         'one': 1,\n",
       "         'other': 1,\n",
       "         'questions': 1,\n",
       "         'study': 1,\n",
       "         'techniques': 1,\n",
       "         'that': 2,\n",
       "         'the': 5,\n",
       "         'to': 3,\n",
       "         'tools': 1,\n",
       "         'traditional': 2,\n",
       "         'two': 1,\n",
       "         'ways': 1,\n",
       "         'with': 1,\n",
       "         'work': 1})"
      ]
     },
     "execution_count": 11,
     "metadata": {},
     "output_type": "execute_result"
    }
   ],
   "source": [
    "# How often does each token appear in our list?\n",
    "\n",
    "import collections\n",
    "\n",
    "collections.Counter(sentence_tokens)"
   ]
  },
  {
   "cell_type": "code",
   "execution_count": 12,
   "metadata": {
    "collapsed": true
   },
   "outputs": [],
   "source": [
    "# Assign those token counts to a variable\n",
    "\n",
    "token_frequency = collections.Counter(sentence_tokens)"
   ]
  },
  {
   "cell_type": "code",
   "execution_count": 13,
   "metadata": {},
   "outputs": [
    {
     "data": {
      "text/plain": [
       "[('the', 5),\n",
       " ('it', 3),\n",
       " ('to', 3),\n",
       " ('of', 3),\n",
       " ('digital', 3),\n",
       " ('media', 3),\n",
       " ('humanistic', 3),\n",
       " ('.', 3),\n",
       " ('on', 3),\n",
       " ('that', 2)]"
      ]
     },
     "execution_count": 13,
     "metadata": {},
     "output_type": "execute_result"
    }
   ],
   "source": [
    "# Get an ordered list of the most frequent tokens\n",
    "\n",
    "token_frequency.most_common(10)"
   ]
  },
  {
   "cell_type": "markdown",
   "metadata": {},
   "source": [
    "### Note on Term Frequency\n",
    "\n",
    "Some of the most frequent words appear to summarize the sentence: in particular the words \"humanistic\", \"digital\", and \"media\". However, most of the these terms seem to add noise in the summary: \"the\", \"it\", \"to\", \".\", etc.\n",
    "\n",
    "There are many strategies for identifying the most important words in a text, and we will cover the most popular ones in the next week. Today, we will look at two of them. In the first, we will simply remove the noisey tokens. In the second, we will identify important words using their parts of speech."
   ]
  },
  {
   "cell_type": "markdown",
   "metadata": {},
   "source": [
    "# 3. Pre-Processing: Lower Case, Remove Stop Words and Punctuation\n",
    "\n",
    "Typically, a text goes through a number of pre-processing steps before beginning to the actual analysis. We have already seen the tokenization step. Typically, pre-processing includes transforming tokens to lower case and removing stop words and punctuation marks.\n",
    "\n",
    "Again, pre-processing is a non-trivial process that can have large impacts on the analysis that follows. For instance, what will be the most common token in our example sentence, once we set all tokens to lower case?"
   ]
  },
  {
   "cell_type": "markdown",
   "metadata": {},
   "source": [
    "### Lower Case"
   ]
  },
  {
   "cell_type": "code",
   "execution_count": 14,
   "metadata": {},
   "outputs": [
    {
     "data": {
      "text/plain": [
       "\"For me it has to do with the work that gets done at the crossroads of digital media and traditional humanistic study. And that happens in two different ways. On the one hand, it's bringing the tools and techniques of digital media to bear on traditional humanistic questions; on the other, it's also bringing humanistic modes of inquiry to bear on digital media.\""
      ]
     },
     "execution_count": 14,
     "metadata": {},
     "output_type": "execute_result"
    }
   ],
   "source": [
    "# Let's revisit our original sentence\n",
    "\n",
    "sentence"
   ]
  },
  {
   "cell_type": "code",
   "execution_count": 15,
   "metadata": {},
   "outputs": [
    {
     "data": {
      "text/plain": [
       "\"for me it has to do with the work that gets done at the crossroads of digital media and traditional humanistic study. and that happens in two different ways. on the one hand, it's bringing the tools and techniques of digital media to bear on traditional humanistic questions; on the other, it's also bringing humanistic modes of inquiry to bear on digital media.\""
      ]
     },
     "execution_count": 15,
     "metadata": {},
     "output_type": "execute_result"
    }
   ],
   "source": [
    "# And now transform it to lower case, all at once\n",
    "\n",
    "sentence.lower()"
   ]
  },
  {
   "cell_type": "code",
   "execution_count": 16,
   "metadata": {},
   "outputs": [],
   "source": [
    "# Okay, let's set our list of tokens to lower case, one at a time\n",
    "\n",
    "# The syntax of the line below is tricky. Don't worry about it for now.\n",
    "# We'll spend plenty of time on it tomorrow!\n",
    "\n",
    "lower_case_tokens = [ word.lower()  for word in sentence_tokens ]"
   ]
  },
  {
   "cell_type": "code",
   "execution_count": 17,
   "metadata": {},
   "outputs": [
    {
     "name": "stdout",
     "output_type": "stream",
     "text": [
      "['for', 'me', 'it', 'has', 'to', 'do', 'with', 'the', 'work', 'that', 'gets', 'done', 'at', 'the', 'crossroads', 'of', 'digital', 'media', 'and', 'traditional', 'humanistic', 'study', '.', 'and', 'that', 'happens', 'in', 'two', 'different', 'ways', '.', 'on', 'the', 'one', 'hand', ',', 'it', \"'s\", 'bringing', 'the', 'tools', 'and', 'techniques', 'of', 'digital', 'media', 'to', 'bear', 'on', 'traditional', 'humanistic', 'questions', ';', 'on', 'the', 'other', ',', 'it', \"'s\", 'also', 'bringing', 'humanistic', 'modes', 'of', 'inquiry', 'to', 'bear', 'on', 'digital', 'media', '.']\n"
     ]
    }
   ],
   "source": [
    "# Inspect\n",
    "\n",
    "print(lower_case_tokens)"
   ]
  },
  {
   "cell_type": "markdown",
   "metadata": {},
   "source": [
    "### Stop Words"
   ]
  },
  {
   "cell_type": "code",
   "execution_count": 18,
   "metadata": {},
   "outputs": [],
   "source": [
    "# Import the stopwords list\n",
    "from nltk.corpus import stopwords"
   ]
  },
  {
   "cell_type": "code",
   "execution_count": 19,
   "metadata": {},
   "outputs": [
    {
     "name": "stdout",
     "output_type": "stream",
     "text": [
      "['i', 'me', 'my', 'myself', 'we', 'our', 'ours', 'ourselves', 'you', 'your', 'yours', 'yourself', 'yourselves', 'he', 'him', 'his', 'himself', 'she', 'her', 'hers', 'herself', 'it', 'its', 'itself', 'they', 'them', 'their', 'theirs', 'themselves', 'what', 'which', 'who', 'whom', 'this', 'that', 'these', 'those', 'am', 'is', 'are', 'was', 'were', 'be', 'been', 'being', 'have', 'has', 'had', 'having', 'do', 'does', 'did', 'doing', 'a', 'an', 'the', 'and', 'but', 'if', 'or', 'because', 'as', 'until', 'while', 'of', 'at', 'by', 'for', 'with', 'about', 'against', 'between', 'into', 'through', 'during', 'before', 'after', 'above', 'below', 'to', 'from', 'up', 'down', 'in', 'out', 'on', 'off', 'over', 'under', 'again', 'further', 'then', 'once', 'here', 'there', 'when', 'where', 'why', 'how', 'all', 'any', 'both', 'each', 'few', 'more', 'most', 'other', 'some', 'such', 'no', 'nor', 'not', 'only', 'own', 'same', 'so', 'than', 'too', 'very', 's', 't', 'can', 'will', 'just', 'don', 'should', 'now', 'd', 'll', 'm', 'o', 're', 've', 'y', 'ain', 'aren', 'couldn', 'didn', 'doesn', 'hadn', 'hasn', 'haven', 'isn', 'ma', 'mightn', 'mustn', 'needn', 'shan', 'shouldn', 'wasn', 'weren', 'won', 'wouldn']\n"
     ]
    }
   ],
   "source": [
    "# Take a look at what stop words are included\n",
    "\n",
    "print(stopwords.words('english'))"
   ]
  },
  {
   "cell_type": "code",
   "execution_count": 20,
   "metadata": {},
   "outputs": [
    {
     "name": "stdout",
     "output_type": "stream",
     "text": [
      "['de', 'la', 'que', 'el', 'en', 'y', 'a', 'los', 'del', 'se', 'las', 'por', 'un', 'para', 'con', 'no', 'una', 'su', 'al', 'lo', 'como', 'más', 'pero', 'sus', 'le', 'ya', 'o', 'este', 'sí', 'porque', 'esta', 'entre', 'cuando', 'muy', 'sin', 'sobre', 'también', 'me', 'hasta', 'hay', 'donde', 'quien', 'desde', 'todo', 'nos', 'durante', 'todos', 'uno', 'les', 'ni', 'contra', 'otros', 'ese', 'eso', 'ante', 'ellos', 'e', 'esto', 'mí', 'antes', 'algunos', 'qué', 'unos', 'yo', 'otro', 'otras', 'otra', 'él', 'tanto', 'esa', 'estos', 'mucho', 'quienes', 'nada', 'muchos', 'cual', 'poco', 'ella', 'estar', 'estas', 'algunas', 'algo', 'nosotros', 'mi', 'mis', 'tú', 'te', 'ti', 'tu', 'tus', 'ellas', 'nosotras', 'vosostros', 'vosostras', 'os', 'mío', 'mía', 'míos', 'mías', 'tuyo', 'tuya', 'tuyos', 'tuyas', 'suyo', 'suya', 'suyos', 'suyas', 'nuestro', 'nuestra', 'nuestros', 'nuestras', 'vuestro', 'vuestra', 'vuestros', 'vuestras', 'esos', 'esas', 'estoy', 'estás', 'está', 'estamos', 'estáis', 'están', 'esté', 'estés', 'estemos', 'estéis', 'estén', 'estaré', 'estarás', 'estará', 'estaremos', 'estaréis', 'estarán', 'estaría', 'estarías', 'estaríamos', 'estaríais', 'estarían', 'estaba', 'estabas', 'estábamos', 'estabais', 'estaban', 'estuve', 'estuviste', 'estuvo', 'estuvimos', 'estuvisteis', 'estuvieron', 'estuviera', 'estuvieras', 'estuviéramos', 'estuvierais', 'estuvieran', 'estuviese', 'estuvieses', 'estuviésemos', 'estuvieseis', 'estuviesen', 'estando', 'estado', 'estada', 'estados', 'estadas', 'estad', 'he', 'has', 'ha', 'hemos', 'habéis', 'han', 'haya', 'hayas', 'hayamos', 'hayáis', 'hayan', 'habré', 'habrás', 'habrá', 'habremos', 'habréis', 'habrán', 'habría', 'habrías', 'habríamos', 'habríais', 'habrían', 'había', 'habías', 'habíamos', 'habíais', 'habían', 'hube', 'hubiste', 'hubo', 'hubimos', 'hubisteis', 'hubieron', 'hubiera', 'hubieras', 'hubiéramos', 'hubierais', 'hubieran', 'hubiese', 'hubieses', 'hubiésemos', 'hubieseis', 'hubiesen', 'habiendo', 'habido', 'habida', 'habidos', 'habidas', 'soy', 'eres', 'es', 'somos', 'sois', 'son', 'sea', 'seas', 'seamos', 'seáis', 'sean', 'seré', 'serás', 'será', 'seremos', 'seréis', 'serán', 'sería', 'serías', 'seríamos', 'seríais', 'serían', 'era', 'eras', 'éramos', 'erais', 'eran', 'fui', 'fuiste', 'fue', 'fuimos', 'fuisteis', 'fueron', 'fuera', 'fueras', 'fuéramos', 'fuerais', 'fueran', 'fuese', 'fueses', 'fuésemos', 'fueseis', 'fuesen', 'sintiendo', 'sentido', 'sentida', 'sentidos', 'sentidas', 'siente', 'sentid', 'tengo', 'tienes', 'tiene', 'tenemos', 'tenéis', 'tienen', 'tenga', 'tengas', 'tengamos', 'tengáis', 'tengan', 'tendré', 'tendrás', 'tendrá', 'tendremos', 'tendréis', 'tendrán', 'tendría', 'tendrías', 'tendríamos', 'tendríais', 'tendrían', 'tenía', 'tenías', 'teníamos', 'teníais', 'tenían', 'tuve', 'tuviste', 'tuvo', 'tuvimos', 'tuvisteis', 'tuvieron', 'tuviera', 'tuvieras', 'tuviéramos', 'tuvierais', 'tuvieran', 'tuviese', 'tuvieses', 'tuviésemos', 'tuvieseis', 'tuviesen', 'teniendo', 'tenido', 'tenida', 'tenidos', 'tenidas', 'tened']\n"
     ]
    }
   ],
   "source": [
    "# Try another language\n",
    "\n",
    "print(stopwords.words('spanish'))"
   ]
  },
  {
   "cell_type": "code",
   "execution_count": 21,
   "metadata": {
    "collapsed": true
   },
   "outputs": [],
   "source": [
    "# Create a new variable that contains the sentence tokens but NOT the stopwords\n",
    "\n",
    "tokens_nostops = [ word  for word in lower_case_tokens  if word not in stopwords.words('english') ]"
   ]
  },
  {
   "cell_type": "code",
   "execution_count": 22,
   "metadata": {},
   "outputs": [
    {
     "name": "stdout",
     "output_type": "stream",
     "text": [
      "['work', 'gets', 'done', 'crossroads', 'digital', 'media', 'traditional', 'humanistic', 'study', '.', 'happens', 'two', 'different', 'ways', '.', 'one', 'hand', ',', \"'s\", 'bringing', 'tools', 'techniques', 'digital', 'media', 'bear', 'traditional', 'humanistic', 'questions', ';', ',', \"'s\", 'also', 'bringing', 'humanistic', 'modes', 'inquiry', 'bear', 'digital', 'media', '.']\n"
     ]
    }
   ],
   "source": [
    "# Inspect\n",
    "\n",
    "print(tokens_nostops)"
   ]
  },
  {
   "cell_type": "markdown",
   "metadata": {},
   "source": [
    "### Punctuation"
   ]
  },
  {
   "cell_type": "code",
   "execution_count": 23,
   "metadata": {
    "collapsed": true
   },
   "outputs": [],
   "source": [
    "# Import a list of punctuation marks\n",
    "\n",
    "import string"
   ]
  },
  {
   "cell_type": "code",
   "execution_count": 24,
   "metadata": {},
   "outputs": [
    {
     "data": {
      "text/plain": [
       "'!\"#$%&\\'()*+,-./:;<=>?@[\\\\]^_`{|}~'"
      ]
     },
     "execution_count": 24,
     "metadata": {},
     "output_type": "execute_result"
    }
   ],
   "source": [
    "# Inspect\n",
    "\n",
    "string.punctuation"
   ]
  },
  {
   "cell_type": "code",
   "execution_count": 25,
   "metadata": {
    "collapsed": true
   },
   "outputs": [],
   "source": [
    "# Remove punctuation marks from token list\n",
    "\n",
    "tokens_clean = [word for word in tokens_nostops if word not in string.punctuation]"
   ]
  },
  {
   "cell_type": "code",
   "execution_count": 26,
   "metadata": {},
   "outputs": [
    {
     "name": "stdout",
     "output_type": "stream",
     "text": [
      "['work', 'gets', 'done', 'crossroads', 'digital', 'media', 'traditional', 'humanistic', 'study', 'happens', 'two', 'different', 'ways', 'one', 'hand', \"'s\", 'bringing', 'tools', 'techniques', 'digital', 'media', 'bear', 'traditional', 'humanistic', 'questions', \"'s\", 'also', 'bringing', 'humanistic', 'modes', 'inquiry', 'bear', 'digital', 'media']\n"
     ]
    }
   ],
   "source": [
    "# See what's left\n",
    "\n",
    "print(tokens_clean)"
   ]
  },
  {
   "cell_type": "markdown",
   "metadata": {},
   "source": [
    "### Re-count the Most Frequent Words"
   ]
  },
  {
   "cell_type": "code",
   "execution_count": 27,
   "metadata": {
    "collapsed": true
   },
   "outputs": [],
   "source": [
    "# Count the new token list\n",
    "\n",
    "word_frequency_clean = collections.Counter(tokens_clean)"
   ]
  },
  {
   "cell_type": "code",
   "execution_count": 28,
   "metadata": {},
   "outputs": [
    {
     "data": {
      "text/plain": [
       "[('digital', 3),\n",
       " ('media', 3),\n",
       " ('humanistic', 3),\n",
       " ('traditional', 2),\n",
       " (\"'s\", 2),\n",
       " ('bringing', 2),\n",
       " ('bear', 2),\n",
       " ('work', 1),\n",
       " ('gets', 1),\n",
       " ('done', 1)]"
      ]
     },
     "execution_count": 28,
     "metadata": {},
     "output_type": "execute_result"
    }
   ],
   "source": [
    "# Most common words\n",
    "\n",
    "word_frequency_clean.most_common(10)"
   ]
  },
  {
   "cell_type": "markdown",
   "metadata": {},
   "source": [
    "Better! The ten most frequent words now give us a pretty good sense of the substance of this sentence. But we still have problems. For example, the token \"'s\" sneaked in there. One solution is to keep adding stop words to our list, but this could go on forever and is not a good solution when processing lots of text.\n",
    "\n",
    "There's another way of identifying content words, and it involves identifying the part of speech of each word."
   ]
  },
  {
   "cell_type": "markdown",
   "metadata": {},
   "source": [
    "# 4. Part-of-Speech Tagging\n",
    "\n",
    "You may have noticed that stop words are typically short function words, like conjunctions and prepositions. Intuitively, if we could identify the part of speech of a word, we would have another way of identifying which contribute to the text's subject matter. NLTK can do that too!\n",
    "\n",
    "NLTK has a <i>POS Tagger</i>, which identifies and labels the part-of-speech (POS) for every token in a text. The particular labels that NLTK uses come from the Penn Treebank corpus, a major resource from corpus linguistics.\n",
    "\n",
    "You can find a list of all Penn POS tags here: https://www.ling.upenn.edu/courses/Fall_2003/ling001/penn_treebank_pos.html\n",
    "\n",
    "Note that, from this point on, the code is going to get a little more complex. Don't worry about the particularities of each line. For now, we will focus on the NLP tasks themselves and the textual patterns they identify."
   ]
  },
  {
   "cell_type": "code",
   "execution_count": 31,
   "metadata": {},
   "outputs": [
    {
     "name": "stdout",
     "output_type": "stream",
     "text": [
      "['For', 'me', 'it', 'has', 'to', 'do', 'with', 'the', 'work', 'that', 'gets', 'done', 'at', 'the', 'crossroads', 'of', 'digital', 'media', 'and', 'traditional', 'humanistic', 'study', '.', 'And', 'that', 'happens', 'in', 'two', 'different', 'ways', '.', 'On', 'the', 'one', 'hand', ',', 'it', \"'s\", 'bringing', 'the', 'tools', 'and', 'techniques', 'of', 'digital', 'media', 'to', 'bear', 'on', 'traditional', 'humanistic', 'questions', ';', 'on', 'the', 'other', ',', 'it', \"'s\", 'also', 'bringing', 'humanistic', 'modes', 'of', 'inquiry', 'to', 'bear', 'on', 'digital', 'media', '.']\n"
     ]
    }
   ],
   "source": [
    "# Let's revisit our original list of tokens\n",
    "\n",
    "print(sentence_tokens)"
   ]
  },
  {
   "cell_type": "code",
   "execution_count": 34,
   "metadata": {
    "scrolled": true
   },
   "outputs": [
    {
     "data": {
      "text/plain": [
       "[('For', 'IN'),\n",
       " ('me', 'PRP'),\n",
       " ('it', 'PRP'),\n",
       " ('has', 'VBZ'),\n",
       " ('to', 'TO'),\n",
       " ('do', 'VB'),\n",
       " ('with', 'IN'),\n",
       " ('the', 'DT'),\n",
       " ('work', 'NN'),\n",
       " ('that', 'WDT'),\n",
       " ('gets', 'VBZ'),\n",
       " ('done', 'VBN'),\n",
       " ('at', 'IN'),\n",
       " ('the', 'DT'),\n",
       " ('crossroads', 'NNS'),\n",
       " ('of', 'IN'),\n",
       " ('digital', 'JJ'),\n",
       " ('media', 'NNS'),\n",
       " ('and', 'CC'),\n",
       " ('traditional', 'JJ'),\n",
       " ('humanistic', 'JJ'),\n",
       " ('study', 'NN'),\n",
       " ('.', '.'),\n",
       " ('And', 'CC'),\n",
       " ('that', 'DT'),\n",
       " ('happens', 'VBZ'),\n",
       " ('in', 'IN'),\n",
       " ('two', 'CD'),\n",
       " ('different', 'JJ'),\n",
       " ('ways', 'NNS'),\n",
       " ('.', '.'),\n",
       " ('On', 'IN'),\n",
       " ('the', 'DT'),\n",
       " ('one', 'CD'),\n",
       " ('hand', 'NN'),\n",
       " (',', ','),\n",
       " ('it', 'PRP'),\n",
       " (\"'s\", 'VBZ'),\n",
       " ('bringing', 'VBG'),\n",
       " ('the', 'DT'),\n",
       " ('tools', 'NNS'),\n",
       " ('and', 'CC'),\n",
       " ('techniques', 'NNS'),\n",
       " ('of', 'IN'),\n",
       " ('digital', 'JJ'),\n",
       " ('media', 'NNS'),\n",
       " ('to', 'TO'),\n",
       " ('bear', 'VB'),\n",
       " ('on', 'IN'),\n",
       " ('traditional', 'JJ'),\n",
       " ('humanistic', 'JJ'),\n",
       " ('questions', 'NNS'),\n",
       " (';', ':'),\n",
       " ('on', 'IN'),\n",
       " ('the', 'DT'),\n",
       " ('other', 'JJ'),\n",
       " (',', ','),\n",
       " ('it', 'PRP'),\n",
       " (\"'s\", 'VBZ'),\n",
       " ('also', 'RB'),\n",
       " ('bringing', 'VBG'),\n",
       " ('humanistic', 'JJ'),\n",
       " ('modes', 'NNS'),\n",
       " ('of', 'IN'),\n",
       " ('inquiry', 'NN'),\n",
       " ('to', 'TO'),\n",
       " ('bear', 'VB'),\n",
       " ('on', 'IN'),\n",
       " ('digital', 'JJ'),\n",
       " ('media', 'NNS'),\n",
       " ('.', '.')]"
      ]
     },
     "execution_count": 34,
     "metadata": {},
     "output_type": "execute_result"
    }
   ],
   "source": [
    "# Use the NLTK POS tagger\n",
    "\n",
    "nltk.pos_tag(sentence_tokens)"
   ]
  },
  {
   "cell_type": "code",
   "execution_count": 35,
   "metadata": {
    "collapsed": true
   },
   "outputs": [],
   "source": [
    "# Assign POS-tagged list to a variable\n",
    "\n",
    "tagged_tokens = nltk.pos_tag(sentence_tokens)"
   ]
  },
  {
   "cell_type": "markdown",
   "metadata": {},
   "source": [
    "### Most Frequent POS Tags"
   ]
  },
  {
   "cell_type": "code",
   "execution_count": 39,
   "metadata": {},
   "outputs": [],
   "source": [
    "# We'll tread lightly here, and just say that we're counting POS tags\n",
    "\n",
    "tag_frequency = collections.Counter( [ tag for (word, tag) in tagged_tokens ])"
   ]
  },
  {
   "cell_type": "code",
   "execution_count": 40,
   "metadata": {},
   "outputs": [
    {
     "data": {
      "text/plain": [
       "[('IN', 11),\n",
       " ('JJ', 10),\n",
       " ('NNS', 9),\n",
       " ('DT', 6),\n",
       " ('VBZ', 5),\n",
       " ('PRP', 4),\n",
       " ('NN', 4),\n",
       " ('TO', 3),\n",
       " ('VB', 3),\n",
       " ('CC', 3),\n",
       " ('.', 3),\n",
       " ('CD', 2),\n",
       " (',', 2),\n",
       " ('VBG', 2),\n",
       " ('WDT', 1),\n",
       " ('VBN', 1),\n",
       " (':', 1),\n",
       " ('RB', 1)]"
      ]
     },
     "execution_count": 40,
     "metadata": {},
     "output_type": "execute_result"
    }
   ],
   "source": [
    "# POS Tags sorted by frequency\n",
    "\n",
    "tag_frequency.most_common()"
   ]
  },
  {
   "cell_type": "markdown",
   "metadata": {},
   "source": [
    "### Now it's getting interesting\n",
    "\n",
    "The \"IN\" tag refers to prepositions, so it's no surprise that it should be the most common. However, we can see at a glance now that the sentence contains a lot of adjectives, \"JJ\". This feels like it tells us something about the rhetorical style or structure of the sentence: certain qualifiers seem to be important to the meaning of the sentence.\n",
    "\n",
    "Let's dig in to see what those adjectives are."
   ]
  },
  {
   "cell_type": "code",
   "execution_count": 42,
   "metadata": {},
   "outputs": [],
   "source": [
    "# Let's filter our list, so it only keeps adjectives\n",
    "\n",
    "adjectives = [word for word,pos in tagged_tokens if pos == 'JJ' or pos=='JJR' or pos=='JJS']"
   ]
  },
  {
   "cell_type": "code",
   "execution_count": 44,
   "metadata": {},
   "outputs": [
    {
     "name": "stdout",
     "output_type": "stream",
     "text": [
      "['digital', 'traditional', 'humanistic', 'different', 'digital', 'traditional', 'humanistic', 'other', 'humanistic', 'digital']\n"
     ]
    }
   ],
   "source": [
    "# Inspect\n",
    "\n",
    "print( adjectives )"
   ]
  },
  {
   "cell_type": "code",
   "execution_count": 46,
   "metadata": {
    "collapsed": true
   },
   "outputs": [],
   "source": [
    "# Tally the frequency of each adjective\n",
    "\n",
    "adj_frequency = collections.Counter(adjectives)"
   ]
  },
  {
   "cell_type": "code",
   "execution_count": 49,
   "metadata": {},
   "outputs": [
    {
     "data": {
      "text/plain": [
       "[('digital', 3),\n",
       " ('humanistic', 3),\n",
       " ('traditional', 2),\n",
       " ('different', 1),\n",
       " ('other', 1)]"
      ]
     },
     "execution_count": 49,
     "metadata": {},
     "output_type": "execute_result"
    }
   ],
   "source": [
    "# Most frequent adjectives\n",
    "\n",
    "adj_frequency.most_common(5)"
   ]
  },
  {
   "cell_type": "code",
   "execution_count": 51,
   "metadata": {},
   "outputs": [],
   "source": [
    "# Let's do the same for nouns.\n",
    "\n",
    "nouns = [word for word,pos in tagged_tokens if pos=='NN' or pos=='NNS']"
   ]
  },
  {
   "cell_type": "code",
   "execution_count": 52,
   "metadata": {},
   "outputs": [
    {
     "name": "stdout",
     "output_type": "stream",
     "text": [
      "['work', 'crossroads', 'media', 'study', 'ways', 'hand', 'tools', 'techniques', 'media', 'questions', 'modes', 'inquiry', 'media']\n"
     ]
    }
   ],
   "source": [
    "# Inspect\n",
    "\n",
    "print(nouns)"
   ]
  },
  {
   "cell_type": "code",
   "execution_count": 53,
   "metadata": {
    "collapsed": true
   },
   "outputs": [],
   "source": [
    "# Tally the frequency of the nouns\n",
    "\n",
    "noun_frequency = collections.Counter(nouns)"
   ]
  },
  {
   "cell_type": "code",
   "execution_count": 54,
   "metadata": {},
   "outputs": [
    {
     "name": "stdout",
     "output_type": "stream",
     "text": [
      "[('media', 3), ('work', 1), ('crossroads', 1), ('study', 1), ('ways', 1)]\n"
     ]
    }
   ],
   "source": [
    "# Most Frequent Nouns\n",
    "\n",
    "print(noun_frequency.most_common(5))"
   ]
  },
  {
   "cell_type": "markdown",
   "metadata": {},
   "source": [
    "And now verbs."
   ]
  },
  {
   "cell_type": "code",
   "execution_count": 56,
   "metadata": {},
   "outputs": [
    {
     "name": "stdout",
     "output_type": "stream",
     "text": [
      "[(\"'s\", 2), ('bringing', 2), ('bear', 2), ('has', 1), ('do', 1)]\n"
     ]
    }
   ],
   "source": [
    "# And we'll do the verbs in one fell swoop\n",
    "\n",
    "verbs = [word for word,pos in tagged_tokens if pos == 'VB' or pos=='VBD' or pos=='VBG' or pos=='VBN' or pos=='VBP' or pos=='VBZ']\n",
    "verb_frequency = collections.Counter(verbs)\n",
    "print(verb_frequency.most_common(5))"
   ]
  },
  {
   "cell_type": "code",
   "execution_count": 57,
   "metadata": {},
   "outputs": [
    {
     "name": "stdout",
     "output_type": "stream",
     "text": [
      "[('digital', 3), ('humanistic', 3), ('traditional', 2)]\n",
      "[('media', 3), ('work', 1), ('crossroads', 1)]\n",
      "[(\"'s\", 2), ('bringing', 2), ('bear', 2)]\n"
     ]
    }
   ],
   "source": [
    "# If we bring all of this together we get a pretty good summary of the sentence\n",
    "\n",
    "print(adj_frequency.most_common(3))\n",
    "print(noun_frequency.most_common(3))\n",
    "print(verb_frequency.most_common(3))"
   ]
  },
  {
   "cell_type": "markdown",
   "metadata": {},
   "source": [
    "# 5. Demonstration: Guess the Novel\n",
    "\n",
    "To illustrate this process on a slightly larger scale, we will do the exactly what we did above, but will do so on two unknown novels. Your challenge: guess the novels from the most frequent words.\n",
    "\n",
    "We will do this in one chunk of code, so another challenge for you during breaks or the next few weeks is to see how much of the following code you can follow (or, in computer science terms, how much of the code you can parse). If the answer is none, not to worry! Tomorrow we will take a step back and work on the nitty gritty of programming."
   ]
  },
  {
   "cell_type": "code",
   "execution_count": 80,
   "metadata": {
    "collapsed": true
   },
   "outputs": [],
   "source": [
    "# Read the two text files from your hard drive\n",
    "# Assign first mystery text to variable 'text1' and second to 'text2'\n",
    "\n",
    "text1 = open('text1.txt').read()\n",
    "text2 = open('text2.txt').read()"
   ]
  },
  {
   "cell_type": "code",
   "execution_count": 81,
   "metadata": {},
   "outputs": [],
   "source": [
    "# Tokenize both texts\n",
    "\n",
    "text1_tokens = nltk.word_tokenize(text1)\n",
    "text2_tokens = nltk.word_tokenize(text2)"
   ]
  },
  {
   "cell_type": "code",
   "execution_count": 82,
   "metadata": {
    "collapsed": true
   },
   "outputs": [],
   "source": [
    "# Set to lower case\n",
    "\n",
    "text1_tokens_lc = [word.lower() for word in text1_tokens]\n",
    "text2_tokens_lc = [word.lower() for word in text2_tokens]"
   ]
  },
  {
   "cell_type": "code",
   "execution_count": 83,
   "metadata": {
    "collapsed": true
   },
   "outputs": [],
   "source": [
    "# Remove stopwords\n",
    "\n",
    "text1_tokens_nostops = [word for word in text1_tokens_lc if word not in stopwords.words('english')]\n",
    "text2_tokens_nostops = [word for word in text2_tokens_lc if word not in stopwords.words('english')]"
   ]
  },
  {
   "cell_type": "code",
   "execution_count": 84,
   "metadata": {},
   "outputs": [],
   "source": [
    "# Remove punctuation using the list of punctuation from the string pacage\n",
    "\n",
    "text1_tokens_clean = [word for word in text1_tokens_nostops if word not in string.punctuation]\n",
    "text2_tokens_clean = [word for word in text2_tokens_nostops if word not in string.punctuation]"
   ]
  },
  {
   "cell_type": "code",
   "execution_count": 85,
   "metadata": {
    "collapsed": true
   },
   "outputs": [],
   "source": [
    "# Frequency distribution\n",
    "\n",
    "text1_word_frequency = collections.Counter(text1_tokens_clean)\n",
    "text2_word_frequency = collections.Counter(text2_tokens_clean)"
   ]
  },
  {
   "cell_type": "code",
   "execution_count": 86,
   "metadata": {},
   "outputs": [
    {
     "data": {
      "text/plain": [
       "[(\"'s\", 1784),\n",
       " (\"''\", 1581),\n",
       " ('``', 1513),\n",
       " ('whale', 1083),\n",
       " ('one', 900),\n",
       " ('like', 575),\n",
       " ('upon', 565),\n",
       " ('ahab', 495),\n",
       " ('man', 490),\n",
       " ('ship', 461),\n",
       " ('old', 441),\n",
       " ('would', 435),\n",
       " ('ye', 432),\n",
       " ('sea', 381),\n",
       " ('though', 363),\n",
       " ('yet', 339),\n",
       " ('time', 323),\n",
       " ('captain', 320),\n",
       " ('long', 315),\n",
       " ('still', 308)]"
      ]
     },
     "execution_count": 86,
     "metadata": {},
     "output_type": "execute_result"
    }
   ],
   "source": [
    "# Guess the novel!\n",
    "\n",
    "text1_word_frequency.most_common(20)"
   ]
  },
  {
   "cell_type": "code",
   "execution_count": 87,
   "metadata": {},
   "outputs": [
    {
     "data": {
      "text/plain": [
       "[(\"''\", 1641),\n",
       " ('``', 1443),\n",
       " (\"'s\", 692),\n",
       " ('elinor', 679),\n",
       " ('could', 572),\n",
       " ('marianne', 560),\n",
       " ('mrs.', 521),\n",
       " ('would', 514),\n",
       " ('said', 387),\n",
       " ('every', 373),\n",
       " ('one', 326),\n",
       " ('much', 288),\n",
       " ('must', 282),\n",
       " ('sister', 269),\n",
       " ('edward', 258),\n",
       " ('dashwood', 249),\n",
       " ('mother', 249),\n",
       " ('time', 237),\n",
       " ('jennings', 234),\n",
       " ('know', 229)]"
      ]
     },
     "execution_count": 87,
     "metadata": {},
     "output_type": "execute_result"
    }
   ],
   "source": [
    "# Guess the novel!\n",
    "\n",
    "text2_word_frequency.most_common(20)"
   ]
  },
  {
   "cell_type": "markdown",
   "metadata": {},
   "source": [
    "Computational Text Analysis is not simply the processing of texts through computers, but involves reflection on the part of human interpreters. How were you able to tell what each novel was? Do you notice any differences between each novel's list of frequent words?\n",
    "\n",
    "The patterns that we notice in our computational model often enrich and extend our research questions -- sometimes in surprising ways! What next steps would you take to investigate these novels?"
   ]
  },
  {
   "cell_type": "markdown",
   "metadata": {},
   "source": [
    "# 6. Concordances and Similar Words using NLTK\n",
    "\n",
    "Tallying word frequencies gives us a bird's-eye-view of our text but we lose one important aspect: context. As the dictum goes: \"You shall know a word by the company it keeps.\"\n",
    "\n",
    "Concordances show us every occurrence of a given word in a text, inside a window of context words that appear before and after it. This is helpful for close reading to get at a word's meaning by seeing how it is used. We can also use the logic of shared context in order to identify which words have similar meanings. To illustrate this, we can compare the way the word \"monstrous\" is used in our two novels."
   ]
  },
  {
   "cell_type": "markdown",
   "metadata": {},
   "source": [
    "### Concordance"
   ]
  },
  {
   "cell_type": "code",
   "execution_count": 88,
   "metadata": {
    "collapsed": true
   },
   "outputs": [],
   "source": [
    "# Transform our raw token lists in NLTK Text-objects\n",
    "text1_nltk = nltk.Text(text1_tokens)\n",
    "text2_nltk = nltk.Text(text2_tokens)"
   ]
  },
  {
   "cell_type": "code",
   "execution_count": 89,
   "metadata": {},
   "outputs": [
    {
     "name": "stdout",
     "output_type": "stream",
     "text": [
      "<Text: ETYMOLOGY . ( Supplied by a Late Consumptive...>\n",
      "<Text: CHAPTER 1 The family of Dashwood had long...>\n"
     ]
    }
   ],
   "source": [
    "# Really they're no differnt from the raw text, but they have additional useful functions\n",
    "print(text1_nltk)\n",
    "print(text2_nltk)"
   ]
  },
  {
   "cell_type": "code",
   "execution_count": 90,
   "metadata": {},
   "outputs": [
    {
     "name": "stdout",
     "output_type": "stream",
     "text": [
      "Displaying 11 of 11 matches:\n",
      "ong the former , one was of a most monstrous size ... . This came towards us , \n",
      "n of the Psalms . `` Touching that monstrous bulk of the whale or ork we have r\n",
      "ll over with a heathenish array of monstrous clubs and spears . Some were thick\n",
      "d as you gazed , and wondered what monstrous cannibal and savage could ever hav\n",
      "that has survived the flood ; most monstrous and most mountainous ! That Himmal\n",
      "they might scout at Moby Dick as a monstrous fable , or still worse and more de\n",
      " Radney . ' '' CHAPTER 55 . Of the Monstrous Pictures of Whales . I shall ere l\n",
      "ing Scenes . In connexion with the monstrous pictures of whales , I am strongly\n",
      "ere to enter upon those still more monstrous stories of them which are to be fo\n",
      "ght have been rummaged out of this monstrous cabinet there is no telling . But \n",
      "e of Whale-Bones ; for Whales of a monstrous size are oftentimes cast up dead u\n"
     ]
    }
   ],
   "source": [
    "# Like a concordancer!\n",
    "\n",
    "text1_nltk.concordance(\"monstrous\")"
   ]
  },
  {
   "cell_type": "code",
   "execution_count": 91,
   "metadata": {},
   "outputs": [
    {
     "name": "stdout",
     "output_type": "stream",
     "text": [
      "Displaying 11 of 11 matches:\n",
      " `` Now , Palmer , you shall see a monstrous pretty girl . '' He immediately we\n",
      "your sister is to marry him . I am monstrous glad of it , for then I shall have\n",
      "ou may tell your sister . She is a monstrous lucky girl to get him , upon my ho\n",
      "k how you will like them . Lucy is monstrous pretty , and so good humoured and \n",
      "Jennings , `` I am sure I shall be monstrous glad of Miss Marianne 's company ,\n",
      "usual noisy cheerfulness , `` I am monstrous glad to see you—sorry I could not \n",
      "t however , as it turns out , I am monstrous glad there was never any thing in \n",
      "so scornfully ! for they say he is monstrous fond of her , as well he may . I s\n",
      "le that she should be . '' `` I am monstrous glad of it . Good gracious ! I hav\n",
      "thing of the kind . So then he was monstrous happy , and talked on some time ab\n",
      "e very genteel people . He makes a monstrous deal of money , and they keep thei\n"
     ]
    }
   ],
   "source": [
    "text2_nltk.concordance(\"monstrous\")"
   ]
  },
  {
   "cell_type": "markdown",
   "metadata": {},
   "source": [
    "### Contextual Similarity"
   ]
  },
  {
   "cell_type": "code",
   "execution_count": 92,
   "metadata": {},
   "outputs": [
    {
     "name": "stdout",
     "output_type": "stream",
     "text": [
      "true contemptible christian abundant few part mean careful puzzled\n",
      "mystifying passing curious loving doleful gamesome singular\n",
      "delightfully wise perilous fearless\n"
     ]
    }
   ],
   "source": [
    "# Get words that appear in a similar context to \"monstrous\"\n",
    "\n",
    "text1_nltk.similar(\"monstrous\")"
   ]
  },
  {
   "cell_type": "code",
   "execution_count": 93,
   "metadata": {},
   "outputs": [
    {
     "name": "stdout",
     "output_type": "stream",
     "text": [
      "very so exceedingly heartily a as good great extremely remarkably\n",
      "sweet vast amazingly\n"
     ]
    }
   ],
   "source": [
    "text2_nltk.similar(\"monstrous\")"
   ]
  },
  {
   "cell_type": "markdown",
   "metadata": {},
   "source": [
    "# Closing Reflection\n",
    "\n",
    "The methods we have looked at today are the bread-and-butter of NLP. Before moving on, take a moment to reflect on the model of textuality that these rely on. Human language texts are split into tokens. Most often, these are transformed into simple tallies: 'whale' appears 1083 times; \"dashwood\" appears 249 times. This does not resemble human reading at all! Yet in spite of that, such a list of frequent terms makes a useful summary of the text.\n",
    "\n",
    "A few questions in closing:\n",
    "* Can we imagine other ways of representing the text to the computer?\n",
    "* Why do you think term frequencies are uncannily descriptive?\n",
    "* What is lost from the text when we rely on frequency information alone?\n",
    "    * Can context similarity recover some of what was lost?\n",
    "* What kinds of research questions can be answered using these techniques?\n",
    "    * What kinds can't?"
   ]
  }
 ],
 "metadata": {
  "kernelspec": {
   "display_name": "Python 3",
   "language": "python",
   "name": "python3"
  },
  "language_info": {
   "codemirror_mode": {
    "name": "ipython",
    "version": 3
   },
   "file_extension": ".py",
   "mimetype": "text/x-python",
   "name": "python",
   "nbconvert_exporter": "python",
   "pygments_lexer": "ipython3",
   "version": "3.6.1"
  }
 },
 "nbformat": 4,
 "nbformat_minor": 1
}
