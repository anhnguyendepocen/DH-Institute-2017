{
 "cells": [
  {
   "cell_type": "markdown",
   "metadata": {},
   "source": [
    "# Sandbox Exercise 1: Gender and Pronouns\n",
    "\n",
    "### Corpus\n",
    "\n",
    "The exercise corpus is a limited selection of 19th century British children's literature. The data were compiled by students in this [course](http://english197s2015.pbworks.com/w/page/93127947/FrontPage).\n",
    "\n",
    "The raw data are found [here](http://dhresourcesforprojectbuilding.pbworks.com/w/page/69244469/Data%20Collections%20and%20Datasets#demo-corpora).\n",
    "\n",
    "That page has additional corpora, so search through it to see if anything sparks your interest.\n",
    "\n",
    "I did some minimal cleaning to get the children's literature data in .csv format for our use. The delimiter for this file is a tab, so technically it's a tab separated file, or tsv. As we've seen, we can specify that delimiter with the option \"sep = '\\t'\" when we read it into a Pandas dataframe.\n",
    "\n",
    "### Exercise\n",
    "\n",
    "[Research has shown](https://www.researchgate.net/publication/253291274_Gender_Differences_in_Language_Use_An_Analysis_of_14000_Text_Samples) that women use more personal pronouns compared to men. Your task is to further this research and explore whether there is a difference between the *magnitude* in the use of personal pronouns and possessive pronouns by men and women authors in our children's literature data, and whether there is a difference in the *way* in which they use these pronouns.\n",
    "\n",
    "For our purposes, here is a list of personal and possessive pronouns:\n",
    "\n",
    "Personal pronouns: I, you, he, she, it, we, they, what, who, me, him, her, us, them  \n",
    "Possessive pronouns: mine, yours, his, hers, ours, theirs\n",
    "\n",
    "For this exercise, the first thing you do should be to explore your data. Summarize what you can summarize, look at the first full text, maybe do some value_counts. Whatever you need to get to know what your data include and how it is formatted. Once you are comfortable with the corpus, do the following:\n",
    "\n",
    "1. Calculate whether female authors use proportionally more *personal* pronouns, on average, compared to male authors in our collection of 19th century children's literature. \n",
    "2. Calculate whether female authors use proportionally more *possessive* pronouns, on average, compared to male authors in the same collection.\n",
    "3. Compare the way in which one personal pronoun and one possessive pronoun of your choosing is used by male and female authors. Do this by showing what other words are used in the same context as the pronouns you choose to compare.\n",
    "\n",
    "If you're looking for more guidance, follow these steps:\n",
    "\n",
    "1. Calculate and print the total number of personal pronouns and possessive pronouns used by female and male authors\n",
    "2. Create a new column that contains the proportion of total words that are personal pronouns for each row\n",
    "3. Create a new column that contains the proportion of total words that are possessive pronouns for each row\n",
    "4. Calculate and print the mean of the two columns from (2) and (3) for male and female authors\n",
    "5. Visualize the output from (4), including error bars\n",
    "6. Include one cell where you interpret this output\n",
    "7. Choose one personal pronoun and one possessive pronoun to compare\n",
    "8. Print out the words used in a similar context as your two chosen pronouns for all of the novels writen by men, and again for all of the novels written by women\n",
    "9. Include a final cell where you interpret this output, and suggest at least one implication of all of your calculations for our understanding of the social world\n",
    "\n",
    "Because of the length of these novels I suggest not using a part-of-speech tagger. Instead, you may use a list of personal and possessive pronouns, as listed above.\n",
    "\n",
    "\n",
    "\n",
    "Hint: Depending on your approach, you may need to use a lambda function for this assignment.\n",
    "\n"
   ]
  },
  {
   "cell_type": "code",
   "execution_count": null,
   "metadata": {
    "collapsed": true
   },
   "outputs": [],
   "source": [
    "#use this code to get started\n",
    "import pandas\n",
    "import nltk\n",
    "import matplotlib.pyplot as plt\n",
    "\n",
    "#read in our data, remove rows with missing texts, check the df variable\n",
    "df = pandas.read_csv(\"corpora/childrens_lit.csv.bz2\", sep = '\\t', encoding = 'utf-8', compression = 'bz2', index_col=0)\n",
    "df = df.dropna(subset=[\"text\"])\n",
    "df"
   ]
  }
 ],
 "metadata": {
  "kernelspec": {
   "display_name": "Python 3",
   "language": "python",
   "name": "python3"
  },
  "language_info": {
   "codemirror_mode": {
    "name": "ipython",
    "version": 3
   },
   "file_extension": ".py",
   "mimetype": "text/x-python",
   "name": "python",
   "nbconvert_exporter": "python",
   "pygments_lexer": "ipython3",
   "version": "3.5.2"
  }
 },
 "nbformat": 4,
 "nbformat_minor": 2
}
