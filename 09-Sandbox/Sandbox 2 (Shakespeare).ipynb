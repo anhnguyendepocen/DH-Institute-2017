{
 "cells": [
  {
   "cell_type": "markdown",
   "metadata": {},
   "source": [
    "# Shakespeare & Model Robustness\n",
    "\n",
    "Selecting which texts belong in the corpus you plan to analyze (and which ones don't!) is a major interpretive problem. This process of selection is closely tied to the definition of our research question. At the same time, when we seek out patterns across texts, our scholarly arguments are strongest when they hold true across reasonable variations in selection critera.\n",
    "\n",
    "For example, say that we perform a distant reading of Shakespeare's Comedies. We analyze them computationaly and present our findings to a scholarly audience. However, during Q&A, an objection is raised that the late romances like <i>The Tempest</i> and the problem plays like <i>Measure for Measure</i> are having a disporportionate impact on the pattens we have discovered. Their status as comedy is subject to debate. Clearly our claim about the Comedies as a whole has been invalidated!\n",
    "\n",
    "We can anticipate this kind of objection by testing variations in our selection criteria. If a pattern holds true across variations that reflect scholarly debates about the categories themselves, then it offers a strong argumentative foothold. Alternately, if the linguistic pattern changes with variant corpora, then it offers a wider view of the discursive field.\n",
    "\n",
    "## Distinctive Words\n",
    "\n",
    "In this set of exercises, we will identify words that are distinctive of Shakespeare's Comedies, as opposed to the Tragedies and Histories. The corpus for this task is the set of Shakespeare's plays, stripped of all character names and stage directions. Only dialogue remains. These have been <a href=\"http://winedarksea.org/?p=2225\">made available by Michael Witmore</a> from the Folger Digital Texts collection.\n",
    "\n",
    "First, we will perform our distinctive word test using the three genres as they are assigned to the plays in the First Folio.\n",
    "\n",
    "* <b>COMEDY</b>\n",
    "    * The Tempest, The Two Gentlemen of Verona, The Merry Wives of Windsor, Measure for Measure, The Comedy of Errors,  Much Ado About Nothing, Love's Labour's Lost, A Midsummer Night's Dream, The Merchant of Venice, As You Like It, The Taming of the Shrew, All's Well That Ends Well, Twelfth Night, The Winter's Tale\n",
    "\n",
    "* <b>HISTORY</b>\n",
    "    * King John, Richard II, Henry IV-Part 1, Henry IV-Part 2, Henry V, Henry VI-Part 1, Henry VI-Part 2, Henry VI-Part 3, Richard III, Henry VIII\n",
    "\n",
    "* <b>TRAGEDY</b>\n",
    "    * Troilus and Cressida, Coriolanus, Titus Andronicus, Romeo and Juliet, Timon of Athens, Julius Caesar, Macbeth, Hamlet, King Lear, Othello, Antony and Cleopatra, Cymbeline\n",
    "\n",
    "Second, we will repeat the process using slightly different categories. In addition to COMEDY, HISTORY, and TRAGEDY, we will include ROMANCE and PROBLEM. Several plays will be shifted into these latter, contested categories.\n",
    "\n",
    "* <b>ROMANCE</b>\n",
    "    * Pericles, Cymbeline, The Winter's Tale, The Tempest, Two Noble Kinsmen\n",
    "\n",
    "* <b>PROBLEM</b>\n",
    "    * All's Well That Ends Well, Measure for Measure, Troilus and Cressida"
   ]
  },
  {
   "cell_type": "markdown",
   "metadata": {},
   "source": [
    "# Exercise 1\n",
    "* Read the text of Shakespeare's plays from files\n",
    "* Create a DataFrame with 4 columns\n",
    "    * Filename\n",
    "    * Genre as assigned in the First Folio\n",
    "    * Genre as revised to include Romances and Problem Plays\n",
    "    * Text\n",
    "    \n",
    "Note: Pericles and Two Noble Kinsmen were not included in the First Folio, both have been argued to be romances. How will you handle this in your labeling?"
   ]
  },
  {
   "cell_type": "code",
   "execution_count": null,
   "metadata": {
    "collapsed": true
   },
   "outputs": [],
   "source": [
    "import os\n",
    "\n",
    "# Get a list of filenames for the corpus\n",
    "filenames = os.listdir(\"corpora/FDT Shakespeare Stripped/\")\n",
    "\n",
    "# Read the files\n",
    "texts = [ open(\"corpora/FDT Shakespeare Stripped/\"+filename, 'rb').read()  for filename in filenames ]"
   ]
  },
  {
   "cell_type": "code",
   "execution_count": null,
   "metadata": {
    "collapsed": true
   },
   "outputs": [],
   "source": []
  },
  {
   "cell_type": "markdown",
   "metadata": {},
   "source": [
    "# Exercise 2\n",
    "* Transform the texts of the plays in to a DTM, using Tf-Idf weighting\n",
    "* Create a new DataFrame with the First Folio genres and the DTM\n",
    "* Produce a list of distinctive words belonging to Comedies"
   ]
  },
  {
   "cell_type": "code",
   "execution_count": null,
   "metadata": {
    "collapsed": true
   },
   "outputs": [],
   "source": []
  },
  {
   "cell_type": "markdown",
   "metadata": {},
   "source": [
    "# Exercise 3\n",
    "* Create a new DataFrame with the revised genres and the DTM\n",
    "* Produce a list of distinctive words belonging to Comedies\n",
    "* Compare results with those from Exercise 2"
   ]
  },
  {
   "cell_type": "code",
   "execution_count": null,
   "metadata": {
    "collapsed": true
   },
   "outputs": [],
   "source": []
  },
  {
   "cell_type": "markdown",
   "metadata": {},
   "source": [
    "# Bonus Exercise\n",
    "* Train a classifier to distinguish between Comedy and Tragedy (in the First Folio)\n",
    "* Predict whether Pericles and Two Noble Kinsmen belong to either group\n",
    "    * How confident are the predictions?\n",
    "* Produce a list of the most important features in the model"
   ]
  },
  {
   "cell_type": "code",
   "execution_count": null,
   "metadata": {
    "collapsed": true
   },
   "outputs": [],
   "source": []
  }
 ],
 "metadata": {
  "kernelspec": {
   "display_name": "Python 3",
   "language": "python",
   "name": "python3"
  },
  "language_info": {
   "codemirror_mode": {
    "name": "ipython",
    "version": 3
   },
   "file_extension": ".py",
   "mimetype": "text/x-python",
   "name": "python",
   "nbconvert_exporter": "python",
   "pygments_lexer": "ipython3",
   "version": "3.6.1"
  }
 },
 "nbformat": 4,
 "nbformat_minor": 2
}
